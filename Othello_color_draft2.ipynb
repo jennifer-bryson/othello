{
 "cells": [
  {
   "cell_type": "markdown",
   "metadata": {},
   "source": [
    "# Othello"
   ]
  },
  {
   "cell_type": "markdown",
   "metadata": {},
   "source": [
    "This code is based on the code from the website https://inventwithpython.com/reversi.py except I've modified it to change the look of the display."
   ]
  },
  {
   "cell_type": "markdown",
   "metadata": {},
   "source": [
    "Just for reference in case we'd like to use a different base program, here are others that I found (but I thought this one was the best):\n",
    "\n",
    "http://dhconnelly.com/paip-python/docs/paip/othello.html\n",
    "\n",
    "http://code.activestate.com/recipes/580698-reversi-othello/\n",
    "\n",
    "\n"
   ]
  },
  {
   "cell_type": "code",
   "execution_count": 1,
   "metadata": {},
   "outputs": [],
   "source": [
    "import math\n",
    "import random\n",
    "import matplotlib.pyplot as plt\n",
    "import numpy as np\n",
    "#import tensorflow as tf\n",
    "import os\n",
    "import sys\n",
    "import copy"
   ]
  },
  {
   "cell_type": "code",
   "execution_count": 2,
   "metadata": {},
   "outputs": [],
   "source": [
    "def drawBoard(board):\n",
    "        ax = plt.gca();\n",
    "        plt.imshow(board, cmap='Blues')\n",
    "        plt.clim(0,1)\n",
    "\n",
    "        # Major ticks\n",
    "        ax.set_xticks(np.arange(0, 8, 1));\n",
    "        ax.set_yticks(np.arange(0, 8, 1));\n",
    "\n",
    "        # Labels for major ticks\n",
    "        ax.set_xticklabels(np.arange(0, 8, 1));\n",
    "        ax.set_yticklabels(np.arange(0, 8, 1));\n",
    "\n",
    "        # Minor ticks\n",
    "        ax.set_xticks(np.arange(-.5, 8, 1), minor=True);\n",
    "        ax.set_yticks(np.arange(-.5, 8, 1), minor=True);\n",
    "\n",
    "        #grid lines\n",
    "        ax.grid(which='minor', color='k', linestyle='-', linewidth=2)\n",
    "\n",
    "        plt.show()        \n",
    "\n",
    "def resetBoard(board):\n",
    "    # Blanks out the board it is passed, except for the original starting position.\n",
    "    for x in range(8):\n",
    "        for y in range(8):\n",
    "            board[x][y] = 0\n",
    "\n",
    "    # Starting pieces:\n",
    "    board[3][3] = 1     #X=1\n",
    "    board[3][4] = 0.5   #O=0.5\n",
    "    board[4][3] = 0.5\n",
    "    board[4][4] = 1        \n",
    "\n",
    "\n",
    "def getNewBoard():\n",
    "    # Creates a brand new, blank board data structure.\n",
    "    board = []\n",
    "    for i in range(8):\n",
    "        board.append([0] * 8)\n",
    "    return board\n",
    "\n",
    "\n",
    "\n",
    "def isValidMove(board, tile, xstart, ystart):\n",
    "    # Returns False if the player's move on space xstart, ystart is invalid.\n",
    "    # If it is a valid move, returns a list of spaces that would become the player's if they made a move here.\n",
    "    if board[xstart][ystart] != 0 or not isOnBoard(xstart, ystart):\n",
    "        return False\n",
    "\n",
    "    board[xstart][ystart] = tile # temporarily set the tile on the board.\n",
    "\n",
    "    if tile == 1:\n",
    "        otherTile = 0.5\n",
    "    else:\n",
    "        otherTile = 1\n",
    "\n",
    "    tilesToFlip = []\n",
    "    for xdirection, ydirection in [[0, 1], [1, 1], [1, 0], [1, -1], [0, -1], [-1, -1], [-1, 0], [-1, 1]]:\n",
    "        x, y = xstart, ystart\n",
    "        x += xdirection # first step in the direction\n",
    "        y += ydirection # first step in the direction\n",
    "        if isOnBoard(x, y) and board[x][y] == otherTile:\n",
    "            # There is a piece belonging to the other player next to our piece.\n",
    "            x += xdirection\n",
    "            y += ydirection\n",
    "            if not isOnBoard(x, y):\n",
    "                continue\n",
    "            while board[x][y] == otherTile:\n",
    "                x += xdirection\n",
    "                y += ydirection\n",
    "                if not isOnBoard(x, y): # break out of while loop, then continue in for loop\n",
    "                    break\n",
    "            if not isOnBoard(x, y):\n",
    "                continue\n",
    "            if board[x][y] == tile:\n",
    "                # There are pieces to flip over. Go in the reverse direction until we reach the original space, noting all the tiles along the way.\n",
    "                while True:\n",
    "                    x -= xdirection\n",
    "                    y -= ydirection\n",
    "                    if x == xstart and y == ystart:\n",
    "                        break\n",
    "                    tilesToFlip.append([x, y])\n",
    "\n",
    "    board[xstart][ystart] = 0 # restore the empty space\n",
    "    if len(tilesToFlip) == 0: # If no tiles were flipped, this is not a valid move.\n",
    "        return False\n",
    "    return tilesToFlip\n",
    "\n",
    "\n",
    "def isOnBoard(x, y):\n",
    "    # Returns True if the coordinates are located on the board.\n",
    "    return x >= 0 and x <= 7 and y >= 0 and y <=7\n",
    "\n",
    "\n",
    "def getBoardWithValidMoves(board, tile):\n",
    "    # Returns a new board with . marking the valid moves the given player can make.\n",
    "    dupeBoard = getBoardCopy(board)\n",
    "\n",
    "    for x, y in getValidMoves(dupeBoard, tile):\n",
    "        dupeBoard[x][y] = 0.2\n",
    "    return dupeBoard\n",
    "\n",
    "\n",
    "def getValidMoves(board, tile):\n",
    "    # Returns a list of [x,y] lists of valid moves for the given player on the given board.\n",
    "    validMoves = []\n",
    "\n",
    "    for x in range(8):\n",
    "        for y in range(8):\n",
    "            if isValidMove(board, tile, x, y) != False:\n",
    "                validMoves.append([x, y])\n",
    "    return validMoves\n",
    "\n",
    "\n",
    "def getScoreOfBoard(board):\n",
    "    # Determine the score by counting the tiles. Returns a dictionary with keys 'X' and 'O'.\n",
    "    xscore = 0\n",
    "    oscore = 0\n",
    "    for x in range(8):\n",
    "        for y in range(8):\n",
    "            if board[x][y] == 1:\n",
    "                xscore += 1\n",
    "            if board[x][y] == 0.5:\n",
    "                oscore += 1\n",
    "    return {'Dark':xscore, 'Light':oscore}\n",
    "\n",
    "def playAgain():\n",
    "    # This function returns True if the player wants to play again, otherwise it returns False.\n",
    "    print('Do you want to play again? (yes or no)')\n",
    "    return input().lower().startswith('y')\n",
    "\n",
    "\n",
    "def makeMove(board, tile, xstart, ystart):\n",
    "    # Place the tile on the board at xstart, ystart, and flip any of the opponent's pieces.\n",
    "    # Returns False if this is an invalid move, True if it is valid.\n",
    "    tilesToFlip = isValidMove(board, tile, xstart, ystart)\n",
    "\n",
    "    if tilesToFlip == False:\n",
    "        return False\n",
    "\n",
    "    board[xstart][ystart] = tile\n",
    "    for x, y in tilesToFlip:\n",
    "        board[x][y] = tile\n",
    "    return True\n",
    "\n",
    "\n",
    "def getBoardCopy(board):\n",
    "    # Make a duplicate of the board list and return the duplicate.\n",
    "    dupeBoard = getNewBoard()\n",
    "\n",
    "    for x in range(8):\n",
    "        for y in range(8):\n",
    "            dupeBoard[x][y] = board[x][y]\n",
    "\n",
    "    return dupeBoard\n",
    "\n",
    "\n",
    "def isOnCorner(x, y):\n",
    "    # Returns True if the position is in one of the four corners.\n",
    "    return (x == 0 and y == 0) or (x == 7 and y == 0) or (x == 0 and y == 7) or (x == 7 and y == 7)\n",
    "\n",
    "\n",
    "def getPlayerMove(board, playerTile):\n",
    "    # Let the player type in their move.\n",
    "    # Returns the move as [x, y] (or returns the strings 'hints' or 'quit')\n",
    "    DIGITS0TO7 = '0 1 2 3 4 5 6 7'.split()\n",
    "    while True:\n",
    "        print('Enter your move, or type quit to end the game, or hints to turn off/on hints.')\n",
    "        move = input().lower()\n",
    "        if move == 'quit':\n",
    "            return 'quit'\n",
    "        if move == 'hints':\n",
    "            return 'hints'\n",
    "\n",
    "        if len(move) == 2 and move[0] in DIGITS0TO7 and move[1] in DIGITS0TO7:\n",
    "            x = int(move[0]) \n",
    "            y = int(move[1])\n",
    "            if isValidMove(board, 0.5, x, y) == False:\n",
    "                continue\n",
    "            else:\n",
    "                break\n",
    "        else:\n",
    "            print('That is not a valid move. Type the x digit (0-7), then the y digit (0-7).')\n",
    "            print('For example, 07 will be the top-right corner.')\n",
    "\n",
    "    return [x, y]\n",
    "\n",
    "\n",
    "def getComputerMove(board, computerTile):\n",
    "    # Given a board and the computer's tile, determine where to\n",
    "    # move and return that move as a [x, y] list.\n",
    "    possibleMoves = getValidMoves(board, 1)\n",
    "\n",
    "    # randomize the order of the possible moves\n",
    "    random.shuffle(possibleMoves)\n",
    "\n",
    "    # always go for a corner if available.\n",
    "    for x, y in possibleMoves:\n",
    "        if isOnCorner(x, y):\n",
    "            return [x, y]\n",
    "\n",
    "    # Go through all the possible moves and remember the best scoring move\n",
    "    bestScore = -1\n",
    "    for x, y in possibleMoves:\n",
    "        dupeBoard = getBoardCopy(board)\n",
    "        makeMove(dupeBoard, computerTile, x, y)\n",
    "        score = getScoreOfBoard(dupeBoard)[computerTile]\n",
    "        if score > bestScore:\n",
    "            bestMove = [x, y]\n",
    "            bestScore = score\n",
    "    return bestMove\n",
    "\n",
    "\n",
    "def showPoints(playerTile, computerTile):\n",
    "    # Prints out the current score.\n",
    "    scores = getScoreOfBoard(mainBoard)\n",
    "    print('You have %s points. The computer has %s points.' % (scores['Light'], scores['Dark']))"
   ]
  },
  {
   "cell_type": "code",
   "execution_count": 7,
   "metadata": {},
   "outputs": [
    {
     "name": "stdout",
     "output_type": "stream",
     "text": [
      "Welcome to Reversi!\n",
      "The computer will go first.\n"
     ]
    },
    {
     "data": {
      "image/png": "[encoded data removed]",
      "text/plain": [
       "<matplotlib.figure.Figure at 0x112611588>"
      ]
     },
     "metadata": {},
     "output_type": "display_data"
    },
    {
     "name": "stdout",
     "output_type": "stream",
     "text": [
      "You have 2 points. The computer has 2 points.\n",
      "Press Enter to see the computer's move.\n"
     ]
    },
    {
     "data": {
      "image/png": "[encoded data removed]",
      "text/plain": [
       "<matplotlib.figure.Figure at 0x112151898>"
      ]
     },
     "metadata": {},
     "output_type": "display_data"
    },
    {
     "name": "stdout",
     "output_type": "stream",
     "text": [
      "You have 1 points. The computer has 4 points.\n",
      "Enter your move, or type quit to end the game, or hints to turn off/on hints.\n",
      "25\n"
     ]
    },
    {
     "data": {
      "image/png": "[encoded data removed]",
      "text/plain": [
       "<matplotlib.figure.Figure at 0x1125ab1d0>"
      ]
     },
     "metadata": {},
     "output_type": "display_data"
    },
    {
     "name": "stdout",
     "output_type": "stream",
     "text": [
      "You have 3 points. The computer has 3 points.\n",
      "Press Enter to see the computer's move.\n"
     ]
    },
    {
     "data": {
      "image/png": "[encoded data removed]",
      "text/plain": [
       "<matplotlib.figure.Figure at 0x1129c0358>"
      ]
     },
     "metadata": {},
     "output_type": "display_data"
    },
    {
     "name": "stdout",
     "output_type": "stream",
     "text": [
      "You have 2 points. The computer has 5 points.\n",
      "Enter your move, or type quit to end the game, or hints to turn off/on hints.\n",
      "hints\n"
     ]
    },
    {
     "data": {
      "image/png": "[encoded data removed]",
      "text/plain": [
       "<matplotlib.figure.Figure at 0x1122465c0>"
      ]
     },
     "metadata": {},
     "output_type": "display_data"
    },
    {
     "name": "stdout",
     "output_type": "stream",
     "text": [
      "You have 2 points. The computer has 5 points.\n",
      "Enter your move, or type quit to end the game, or hints to turn off/on hints.\n",
      "32\n"
     ]
    },
    {
     "data": {
      "image/png": "[encoded data removed]",
      "text/plain": [
       "<matplotlib.figure.Figure at 0x11295b128>"
      ]
     },
     "metadata": {},
     "output_type": "display_data"
    },
    {
     "name": "stdout",
     "output_type": "stream",
     "text": [
      "You have 4 points. The computer has 4 points.\n",
      "Press Enter to see the computer's move.\n"
     ]
    },
    {
     "data": {
      "image/png": "[encoded data removed]",
      "text/plain": [
       "<matplotlib.figure.Figure at 0x1124a0550>"
      ]
     },
     "metadata": {},
     "output_type": "display_data"
    },
    {
     "name": "stdout",
     "output_type": "stream",
     "text": [
      "You have 2 points. The computer has 7 points.\n",
      "Enter your move, or type quit to end the game, or hints to turn off/on hints.\n",
      "quit\n",
      "Thanks for playing!\n"
     ]
    },
    {
     "ename": "SystemExit",
     "evalue": "",
     "output_type": "error",
     "traceback": [
      "An exception has occurred, use %tb to see the full traceback.\n",
      "\u001b[0;31mSystemExit\u001b[0m\n"
     ]
    },
    {
     "name": "stderr",
     "output_type": "stream",
     "text": [
      "/anaconda3/lib/python3.6/site-packages/IPython/core/interactiveshell.py:2918: UserWarning: To exit: use 'exit', 'quit', or Ctrl-D.\n",
      "  warn(\"To exit: use 'exit', 'quit', or Ctrl-D.\", stacklevel=1)\n"
     ]
    }
   ],
   "source": [
    "print('Welcome to Reversi!')\n",
    "\n",
    "while True:\n",
    "    # Reset the board and game.\n",
    "    mainBoard = getNewBoard()\n",
    "    resetBoard(mainBoard)\n",
    "    playerTile = 'Light'\n",
    "    computerTile = 'Dark'\n",
    "    \n",
    "    showHints = False\n",
    "    turn = 'computer' #whoGoesFirst()\n",
    "    print('The ' + turn + ' will go first.')\n",
    "\n",
    "    while True:\n",
    "        if turn == 'player':\n",
    "            # Player's turn.\n",
    "            if showHints:\n",
    "                validMovesBoard = getBoardWithValidMoves(mainBoard, 0.5)\n",
    "                drawBoard(validMovesBoard)\n",
    "            else:\n",
    "                drawBoard(mainBoard)\n",
    "            showPoints(playerTile, computerTile)\n",
    "            move = getPlayerMove(mainBoard, playerTile)\n",
    "            if move == 'quit':\n",
    "                print('Thanks for playing!')\n",
    "                sys.exit() # terminate the program\n",
    "            elif move == 'hints':\n",
    "                showHints = not showHints\n",
    "                continue\n",
    "            else:\n",
    "                makeMove(mainBoard, 0.5, move[0], move[1])\n",
    "\n",
    "            if getValidMoves(mainBoard, 1) == []:\n",
    "                break\n",
    "            else:\n",
    "                turn = 'computer'\n",
    "\n",
    "        else:\n",
    "            # Computer's turn.\n",
    "            drawBoard(mainBoard)\n",
    "            showPoints(playerTile, computerTile)\n",
    "            input('Press Enter to see the computer\\'s move.')\n",
    "            x, y = getComputerMove(mainBoard, computerTile)\n",
    "            makeMove(mainBoard, 1 , x, y)\n",
    "\n",
    "            if getValidMoves(mainBoard, 0.5) == []:\n",
    "                break\n",
    "            else:\n",
    "                turn = 'player'\n",
    "\n",
    "    # Display the final score.\n",
    "    drawBoard(mainBoard)\n",
    "    scores = getScoreOfBoard(mainBoard)\n",
    "    print('Dark scored %s points. Light scored %s points.' % (scores['Dark'], scores['Light']))\n",
    "    if scores['Light'] > scores['Dark']:\n",
    "        print('You beat the computer by %s points! Congratulations!' % (scores['Light'] - scores['Dark']))\n",
    "    elif scores['Light'] < scores['Dark']:\n",
    "        print('You lost. The computer beat you by %s points.' % (scores['Dark'] - scores['Light']))\n",
    "    else:\n",
    "        print('The game was a tie!')\n",
    "\n",
    "    if not playAgain():\n",
    "        break"
   ]
  },
  {
   "cell_type": "code",
   "execution_count": null,
   "metadata": {},
   "outputs": [],
   "source": []
  },
  {
   "cell_type": "code",
   "execution_count": null,
   "metadata": {},
   "outputs": [],
   "source": []
  },
  {
   "cell_type": "code",
   "execution_count": null,
   "metadata": {},
   "outputs": [],
   "source": []
  },
  {
   "cell_type": "code",
   "execution_count": null,
   "metadata": {},
   "outputs": [],
   "source": []
  }
 ],
 "metadata": {
  "kernelspec": {
   "display_name": "Python 3",
   "language": "python",
   "name": "python3"
  },
  "language_info": {
   "codemirror_mode": {
    "name": "ipython",
    "version": 3
   },
   "file_extension": ".py",
   "mimetype": "text/x-python",
   "name": "python",
   "nbconvert_exporter": "python",
   "pygments_lexer": "ipython3",
   "version": "3.6.4"
  }
 },
 "nbformat": 4,
 "nbformat_minor": 2
}
